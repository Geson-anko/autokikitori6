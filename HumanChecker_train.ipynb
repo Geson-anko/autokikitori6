{
 "cells": [
  {
   "cell_type": "code",
   "execution_count": 1,
   "metadata": {},
   "outputs": [],
   "source": [
    "from HumanChecker_model import HumanChecker\r\n",
    "import torch\r\n",
    "from torch.utils import data as DataUtil\r\n",
    "import config\r\n",
    "import h5py\r\n",
    "import pytorch_lightning as pl"
   ]
  },
  {
   "cell_type": "code",
   "execution_count": 2,
   "metadata": {},
   "outputs": [
    {
     "name": "stdout",
     "output_type": "stream",
     "text": [
      "torch.Size([3299, 321, 32]) torch.Size([3299, 1]) torch.float16 torch.float16\n"
     ]
    }
   ],
   "source": [
    "tr_p,val_p = 0.9,0.1\r\n",
    "class original_data(DataUtil.Dataset):\r\n",
    "    def __init__(self) -> None:\r\n",
    "        super().__init__()\r\n",
    "\r\n",
    "        with h5py.File('data/HumanChecker.h5','r') as f:\r\n",
    "            voices = torch.from_numpy(f['voice'][...])\r\n",
    "            noizes = torch.from_numpy(f['noize'][...])\r\n",
    "        self.data = torch.cat([voices,noizes])\r\n",
    "        self.ans = torch.cat([torch.ones(voices.size(0)),torch.zeros(noizes.size(0))]).unsqueeze(-1).half()\r\n",
    "        print(self.data.shape,self.ans.shape,self.data.dtype,self.ans.dtype)\r\n",
    "    \r\n",
    "    def __len__(self):\r\n",
    "        return len(self.data)\r\n",
    "\r\n",
    "    def __getitem__(self, index):\r\n",
    "        return self.data[index],self.ans[index]\r\n",
    "\r\n",
    "orig = original_data()\r\n",
    "trlen = int(len(orig)*tr_p)\r\n",
    "vlen = len(orig) - trlen\r\n",
    "trainset,valset = DataUtil.random_split(orig,[trlen,vlen])"
   ]
  },
  {
   "cell_type": "code",
   "execution_count": 3,
   "metadata": {},
   "outputs": [],
   "source": [
    "model = HumanChecker()\r\n",
    "batch_size = 64\r\n",
    "EPOCHS = 50\r\n",
    "train_loader = DataUtil.DataLoader(trainset,batch_size,shuffle=True)\r\n",
    "val_loader = DataUtil.DataLoader(valset,batch_size,shuffle=False)"
   ]
  },
  {
   "cell_type": "code",
   "execution_count": 4,
   "metadata": {},
   "outputs": [
    {
     "name": "stderr",
     "output_type": "stream",
     "text": [
      "GPU available: True, used: True\n",
      "TPU available: False, using: 0 TPU cores\n",
      "Using native 16bit precision.\n",
      "LOCAL_RANK: 0 - CUDA_VISIBLE_DEVICES: [0]\n",
      "\n",
      "  | Name       | Type              | Params\n",
      "-------------------------------------------------\n",
      "0 | criterion  | BCEWithLogitsLoss | 0     \n",
      "1 | init_dense | Linear            | 103 K \n",
      "2 | conformers | ModuleList        | 8.6 M \n",
      "3 | dense      | Linear            | 10.2 K\n",
      "-------------------------------------------------\n",
      "8.7 M     Trainable params\n",
      "0         Non-trainable params\n",
      "8.7 M     Total params\n",
      "34.698    Total estimated model params size (MB)\n"
     ]
    },
    {
     "name": "stdout",
     "output_type": "stream",
     "text": [
      "Validation sanity check:   0%|          | 0/2 [00:00<?, ?it/s]"
     ]
    },
    {
     "name": "stderr",
     "output_type": "stream",
     "text": [
      "C:\\Users\\22shi\\anaconda3\\envs\\JARVIS\\lib\\site-packages\\pytorch_lightning\\trainer\\data_loading.py:102: UserWarning: The dataloader, val dataloader 0, does not have many workers which may be a bottleneck. Consider increasing the value of the `num_workers` argument` (try 16 which is the number of cpus on this machine) in the `DataLoader` init to improve performance.\n",
      "  rank_zero_warn(\n"
     ]
    },
    {
     "name": "stdout",
     "output_type": "stream",
     "text": [
      "Epoch 0:   0%|          | 0/53 [00:00<?, ?it/s] "
     ]
    },
    {
     "name": "stderr",
     "output_type": "stream",
     "text": [
      "C:\\Users\\22shi\\anaconda3\\envs\\JARVIS\\lib\\site-packages\\pytorch_lightning\\trainer\\data_loading.py:102: UserWarning: The dataloader, train dataloader, does not have many workers which may be a bottleneck. Consider increasing the value of the `num_workers` argument` (try 16 which is the number of cpus on this machine) in the `DataLoader` init to improve performance.\n",
      "  rank_zero_warn(\n"
     ]
    },
    {
     "name": "stdout",
     "output_type": "stream",
     "text": [
      "Epoch 6:   9%|▉         | 5/53 [00:00<00:03, 13.33it/s, loss=0.000635, v_num=7]"
     ]
    },
    {
     "name": "stderr",
     "output_type": "stream",
     "text": [
      "C:\\Users\\22shi\\anaconda3\\envs\\JARVIS\\lib\\site-packages\\pytorch_lightning\\trainer\\trainer.py:897: UserWarning: Detected KeyboardInterrupt, attempting graceful shutdown...\n",
      "  rank_zero_warn('Detected KeyboardInterrupt, attempting graceful shutdown...')\n"
     ]
    },
    {
     "name": "stdout",
     "output_type": "stream",
     "text": [
      "Epoch 6:   9%|▉         | 5/53 [00:13<02:08,  2.68s/it, loss=0.000635, v_num=7]"
     ]
    }
   ],
   "source": [
    "trainer = pl.Trainer(gpus=1,num_nodes=1,precision=16,max_epochs=EPOCHS)\r\n",
    "trainer.fit(model,train_loader,val_loader)"
   ]
  },
  {
   "cell_type": "code",
   "execution_count": null,
   "metadata": {},
   "outputs": [],
   "source": [
    "from datetime import datetime\r\n",
    "now = datetime.now().strftime('%Y-%m-%d_%H-%M-%S-%f')\r\n",
    "name = f'params/humanchecker{now}.params'\r\n",
    "torch.save(model.state_dict(),name)\r\n",
    "print('saved')"
   ]
  }
 ],
 "metadata": {
  "interpreter": {
   "hash": "134242d850f5597e40b3ce96b326ee97f2caeebdc9bdb770615172b979c34ca2"
  },
  "kernelspec": {
   "display_name": "Python 3.8.10 64-bit ('JARVIS': conda)",
   "name": "python3"
  },
  "language_info": {
   "codemirror_mode": {
    "name": "ipython",
    "version": 3
   },
   "file_extension": ".py",
   "mimetype": "text/x-python",
   "name": "python",
   "nbconvert_exporter": "python",
   "pygments_lexer": "ipython3",
   "version": "3.8.10"
  },
  "orig_nbformat": 4
 },
 "nbformat": 4,
 "nbformat_minor": 2
}