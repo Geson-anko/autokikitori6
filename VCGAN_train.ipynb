{
 "cells": [
  {
   "cell_type": "code",
   "execution_count": 1,
   "source": [
    "from VCGAN_model import VCGAN\r\n",
    "import VCGAN_data as ToData\r\n",
    "import config\r\n",
    "import torch\r\n",
    "import pytorch_lightning as pl\r\n",
    "from torch.utils import data as DataUtil\r\n",
    "from DatasetLib import Dataset_VCGAN, get_now\r\n",
    "from hparams import VCGAN_default as hparam"
   ],
   "outputs": [],
   "metadata": {}
  },
  {
   "cell_type": "code",
   "execution_count": 2,
   "source": [
    "data_set = Dataset_VCGAN(ToData.filepath,ToData.source_key,ToData.target_key,using_length=40,log=True)"
   ],
   "outputs": [
    {
     "output_type": "stream",
     "name": "stdout",
     "text": [
      "loaded: source, shape: (21, 128, 64)\n",
      "loaded: target, shape: (40, 321, 66)\n"
     ]
    }
   ],
   "metadata": {}
  },
  {
   "cell_type": "code",
   "execution_count": 3,
   "source": [
    "model = VCGAN(hparams=hparam)\r\n",
    "batch_size = 16\r\n",
    "EPOCHS =100\r\n",
    "data_loader = DataUtil.DataLoader(data_set,batch_size,shuffle=True,num_workers=0,pin_memory=False)"
   ],
   "outputs": [],
   "metadata": {}
  },
  {
   "cell_type": "code",
   "execution_count": 4,
   "source": [
    "trainer = pl.Trainer(gpus=1,num_nodes=1,precision=16,max_epochs=EPOCHS)\r\n",
    "trainer.fit(model,data_loader)"
   ],
   "outputs": [
    {
     "output_type": "stream",
     "name": "stderr",
     "text": [
      "GPU available: True, used: True\n",
      "TPU available: False, using: 0 TPU cores\n",
      "Using native 16bit precision.\n",
      "LOCAL_RANK: 0 - CUDA_VISIBLE_DEVICES: [0]\n",
      "\n",
      "  | Name             | Type              | Params\n",
      "-------------------------------------------------------\n",
      "0 | adversarial_loss | BCEWithLogitsLoss | 0     \n",
      "1 | l1_loss          | L1Loss            | 0     \n",
      "2 | mel_scaler       | MelScale          | 0     \n",
      "3 | generator        | Generator         | 1.3 M \n",
      "4 | discriminator    | Discriminator     | 8.7 M \n",
      "-------------------------------------------------------\n",
      "10.0 M    Trainable params\n",
      "0         Non-trainable params\n",
      "10.0 M    Total params\n",
      "39.986    Total estimated model params size (MB)\n",
      "C:\\Users\\22shi\\anaconda3\\envs\\JARVIS\\lib\\site-packages\\pytorch_lightning\\trainer\\data_loading.py:102: UserWarning: The dataloader, train dataloader, does not have many workers which may be a bottleneck. Consider increasing the value of the `num_workers` argument` (try 16 which is the number of cpus on this machine) in the `DataLoader` init to improve performance.\n",
      "  rank_zero_warn(\n"
     ]
    },
    {
     "output_type": "stream",
     "name": "stdout",
     "text": [
      "Epoch 0: 100%|██████████| 3/3 [00:02<00:00,  1.17it/s, loss=1.24, v_num=49]warning: audio amplitude out of range, auto clipped.\n",
      "Epoch 1: 100%|██████████| 3/3 [00:00<00:00,  4.98it/s, loss=5.15, v_num=49]warning: audio amplitude out of range, auto clipped.\n",
      "Epoch 2: 100%|██████████| 3/3 [00:00<00:00,  5.81it/s, loss=10.7, v_num=49]warning: audio amplitude out of range, auto clipped.\n",
      "Epoch 3: 100%|██████████| 3/3 [00:00<00:00,  5.24it/s, loss=17.9, v_num=49]warning: audio amplitude out of range, auto clipped.\n",
      "Epoch 4: 100%|██████████| 3/3 [00:00<00:00,  5.79it/s, loss=33.5, v_num=49]warning: audio amplitude out of range, auto clipped.\n",
      "Epoch 5: 100%|██████████| 3/3 [00:00<00:00,  5.74it/s, loss=52.6, v_num=49]warning: audio amplitude out of range, auto clipped.\n",
      "Epoch 6: 100%|██████████| 3/3 [00:00<00:00,  5.56it/s, loss=71.3, v_num=49]warning: audio amplitude out of range, auto clipped.\n",
      "Epoch 7: 100%|██████████| 3/3 [00:00<00:00,  4.62it/s, loss=77.8, v_num=49]warning: audio amplitude out of range, auto clipped.\n",
      "Epoch 8: 100%|██████████| 3/3 [00:00<00:00,  4.87it/s, loss=74, v_num=49]  warning: audio amplitude out of range, auto clipped.\n",
      "Epoch 9: 100%|██████████| 3/3 [00:00<00:00,  5.15it/s, loss=60.9, v_num=49]warning: audio amplitude out of range, auto clipped.\n",
      "Epoch 23: 100%|██████████| 3/3 [00:00<00:00,  4.50it/s, loss=112, v_num=49]"
     ]
    },
    {
     "output_type": "stream",
     "name": "stderr",
     "text": [
      "C:\\Users\\22shi\\anaconda3\\envs\\JARVIS\\lib\\site-packages\\pytorch_lightning\\trainer\\trainer.py:897: UserWarning: Detected KeyboardInterrupt, attempting graceful shutdown...\n",
      "  rank_zero_warn('Detected KeyboardInterrupt, attempting graceful shutdown...')\n"
     ]
    }
   ],
   "metadata": {}
  },
  {
   "cell_type": "code",
   "execution_count": null,
   "source": [
    "now = get_now()\r\n",
    "nameG = f'params/{model.generator.model_name}_{now}.pth'\r\n",
    "name = f'params/{model.model_name}_{now}.pth'\r\n",
    "torch.save(model.generator.state_dict(),nameG)\r\n",
    "torch.save(model.state_dict(),name)\r\n",
    "print('saved')"
   ],
   "outputs": [
    {
     "output_type": "stream",
     "name": "stdout",
     "text": [
      "saved\n"
     ]
    }
   ],
   "metadata": {}
  }
 ],
 "metadata": {
  "orig_nbformat": 4,
  "language_info": {
   "name": "python",
   "version": "3.8.10",
   "mimetype": "text/x-python",
   "codemirror_mode": {
    "name": "ipython",
    "version": 3
   },
   "pygments_lexer": "ipython3",
   "nbconvert_exporter": "python",
   "file_extension": ".py"
  },
  "kernelspec": {
   "name": "python3",
   "display_name": "Python 3.8.10 64-bit ('JARVIS': conda)"
  },
  "interpreter": {
   "hash": "134242d850f5597e40b3ce96b326ee97f2caeebdc9bdb770615172b979c34ca2"
  }
 },
 "nbformat": 4,
 "nbformat_minor": 2
}