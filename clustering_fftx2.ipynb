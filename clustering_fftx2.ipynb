{
 "cells": [
  {
   "cell_type": "code",
   "execution_count": 5,
   "metadata": {},
   "outputs": [
    {
     "name": "stdout",
     "output_type": "stream",
     "text": [
      "torch.Size([8755, 65])\n"
     ]
    }
   ],
   "source": [
    "from torch_KMeans import torch_KMeans\r\n",
    "kmeans = torch_KMeans(0)\r\n",
    "import h5py\r\n",
    "import torch\r\n",
    "import numpy as np\r\n",
    "import config\r\n",
    "use = 100000\r\n",
    "with h5py.File('data/encoded_fftx2.h5','r') as f:\r\n",
    "    data = f['data'][:use]\r\n",
    "np.random.shuffle(data)\r\n",
    "data = torch.from_numpy(data).type(torch.float32)\r\n",
    "print(data.size())"
   ]
  },
  {
   "cell_type": "code",
   "execution_count": 6,
   "metadata": {},
   "outputs": [
    {
     "name": "stdout",
     "output_type": "stream",
     "text": [
      "getting centroids 100.0%\n",
      "got centroids!\n",
      "Progress : 20.7%\n",
      "finished!\n"
     ]
    }
   ],
   "source": [
    "from datetime import datetime\r\n",
    "pick_init = 2000\r\n",
    "num_cluster = 32\r\n",
    "now = datetime.now().strftime('%Y-%m-%d %H_%M_%S')\r\n",
    "data = data.to('cuda')\r\n",
    "centroids = kmeans.init_centroids_pp(n_cluster=num_cluster,data=data[:pick_init])\r\n",
    "mode = 'k_means++'\r\n",
    "centroids = kmeans.KMeans(num_cluster,data,default_centroids=centroids)\r\n",
    "name = f'params/centroids_fftx2_euclid_{num_cluster}_datasize{data.size(1)}_{now}_{mode}.tensor'\r\n",
    "torch.save(centroids.to('cpu'),name)\r\n",
    "torch.cuda.empty_cache()"
   ]
  },
  {
   "cell_type": "code",
   "execution_count": 3,
   "metadata": {},
   "outputs": [
    {
     "data": {
      "text/plain": [
       "tensor([[4.2686, 1.7536, 3.0188,  ..., 0.6947, 0.6501, 0.6172],\n",
       "        [4.9700, 3.3750, 3.1659,  ..., 1.2572, 1.1363, 1.1335],\n",
       "        [4.1984, 3.3692, 2.6634,  ..., 0.7363, 0.7152, 0.6160],\n",
       "        ...,\n",
       "        [4.4921, 3.3571, 2.7314,  ..., 0.7131, 0.7041, 0.5257],\n",
       "        [4.8513, 3.4834, 2.7098,  ..., 0.7673, 0.8265, 0.6262],\n",
       "        [4.9699, 3.7188, 2.4754,  ..., 1.0776, 0.9323, 0.8517]],\n",
       "       device='cuda:0')"
      ]
     },
     "execution_count": 3,
     "metadata": {},
     "output_type": "execute_result"
    }
   ],
   "source": [
    "centroids"
   ]
  },
  {
   "cell_type": "code",
   "execution_count": 3,
   "metadata": {},
   "outputs": [],
   "source": [
    "#centroids = torch.load('centroids/centroids')"
   ]
  },
  {
   "cell_type": "code",
   "execution_count": 5,
   "metadata": {
    "scrolled": true
   },
   "outputs": [
    {
     "name": "stdout",
     "output_type": "stream",
     "text": [
      "class 0 : 22594\n",
      "class 1 : 4590\n",
      "class 2 : 626\n",
      "class 3 : 972\n",
      "class 4 : 3552\n",
      "class 5 : 3761\n",
      "class 6 : 394\n",
      "class 7 : 203\n",
      "class 8 : 6349\n",
      "class 9 : 3679\n",
      "class 10 : 183\n",
      "class 11 : 304\n",
      "class 12 : 1234\n",
      "class 13 : 624\n",
      "class 14 : 1812\n",
      "class 15 : 1370\n",
      "class 16 : 690\n",
      "class 17 : 496\n",
      "class 18 : 207\n",
      "class 19 : 147\n",
      "class 20 : 1010\n",
      "class 21 : 218\n",
      "class 22 : 219\n",
      "class 23 : 249\n",
      "class 24 : 283\n",
      "class 25 : 3286\n",
      "class 26 : 708\n",
      "class 27 : 1487\n",
      "class 28 : 229\n",
      "class 29 : 210\n",
      "class 30 : 157\n",
      "class 31 : 4489\n",
      "class 32 : 1\n",
      "class 33 : 191\n",
      "class 34 : 180\n",
      "class 35 : 798\n",
      "class 36 : 155\n",
      "class 37 : 184\n",
      "class 38 : 666\n",
      "class 39 : 173\n",
      "class 40 : 2508\n",
      "class 41 : 274\n",
      "class 42 : 2688\n",
      "class 43 : 3180\n",
      "class 44 : 197\n",
      "class 45 : 1116\n",
      "class 46 : 214\n",
      "class 47 : 143\n",
      "class 48 : 406\n",
      "class 49 : 1633\n",
      "class 50 : 273\n",
      "class 51 : 1\n",
      "class 52 : 1383\n",
      "class 53 : 854\n",
      "class 54 : 172\n",
      "class 55 : 249\n",
      "class 56 : 157\n",
      "class 57 : 10261\n",
      "class 58 : 237\n",
      "class 59 : 272\n",
      "class 60 : 450\n",
      "class 61 : 220\n",
      "class 62 : 4199\n",
      "class 63 : 233\n"
     ]
    }
   ],
   "source": [
    "classes = kmeans.clustering(centroids,data)\n",
    "for i in torch.unique(classes):\n",
    "    cls = torch.sum(classes==i)\n",
    "    print(f'class {i} : {cls}')"
   ]
  },
  {
   "cell_type": "code",
   "execution_count": 6,
   "metadata": {
    "scrolled": true
   },
   "outputs": [
    {
     "name": "stdout",
     "output_type": "stream",
     "text": [
      "class 0 : bunsan 4.870586053584702e-05\n",
      "class 1 : bunsan 0.0011764869559556246\n",
      "class 2 : bunsan 0.017029806971549988\n",
      "class 3 : bunsan 0.005839901510626078\n",
      "class 4 : bunsan 0.0036741592921316624\n",
      "class 5 : bunsan 0.010533011518418789\n",
      "class 6 : bunsan 0.02113567292690277\n",
      "class 7 : bunsan 0.028071686625480652\n",
      "class 8 : bunsan 0.0005765333189629018\n",
      "class 9 : bunsan 0.0015446300385519862\n",
      "class 10 : bunsan 0.03498466685414314\n",
      "class 11 : bunsan 0.025068825110793114\n",
      "class 12 : bunsan 0.009739413857460022\n",
      "class 13 : bunsan 0.026207221671938896\n",
      "class 14 : bunsan 0.01795353926718235\n",
      "class 15 : bunsan 0.01853634975850582\n",
      "class 16 : bunsan 0.01971522718667984\n",
      "class 17 : bunsan 0.017726805061101913\n",
      "class 18 : bunsan 0.03015371598303318\n",
      "class 19 : bunsan 0.03408198431134224\n",
      "class 20 : bunsan 0.012217341922223568\n",
      "class 21 : bunsan 0.037715643644332886\n",
      "class 22 : bunsan 0.02988167479634285\n",
      "class 23 : bunsan 0.027566581964492798\n",
      "class 24 : bunsan 0.025606075301766396\n",
      "class 25 : bunsan 0.0028511786367744207\n",
      "class 26 : bunsan 0.01301640272140503\n",
      "class 27 : bunsan 0.0026138448156416416\n",
      "class 28 : bunsan 0.025882070884108543\n",
      "class 29 : bunsan 0.0317978598177433\n",
      "class 30 : bunsan 0.043748050928115845\n",
      "class 31 : bunsan 0.007529634516686201\n",
      "class 32 : bunsan 0.0\n",
      "class 33 : bunsan 0.030756065621972084\n",
      "class 34 : bunsan 0.039574697613716125\n",
      "class 35 : bunsan 0.03145770728588104\n",
      "class 36 : bunsan 0.042543891817331314\n",
      "class 37 : bunsan 0.040766552090644836\n",
      "class 38 : bunsan 0.011428123340010643\n",
      "class 39 : bunsan 0.04220009595155716\n",
      "class 40 : bunsan 0.01517494022846222\n",
      "class 41 : bunsan 0.0775597020983696\n",
      "class 42 : bunsan 0.012874213047325611\n",
      "class 43 : bunsan 0.0019115813774988055\n",
      "class 44 : bunsan 0.026950960978865623\n",
      "class 45 : bunsan 0.004175466485321522\n",
      "class 46 : bunsan 0.028481055051088333\n",
      "class 47 : bunsan 0.03893148899078369\n",
      "class 48 : bunsan 0.047626715153455734\n",
      "class 49 : bunsan 0.0033888474572449923\n",
      "class 50 : bunsan 0.02927730791270733\n",
      "class 51 : bunsan 0.0\n",
      "class 52 : bunsan 0.0069242180325090885\n",
      "class 53 : bunsan 0.02485284022986889\n",
      "class 54 : bunsan 0.037020791321992874\n",
      "class 55 : bunsan 0.041652437299489975\n",
      "class 56 : bunsan 0.03842499479651451\n",
      "class 57 : bunsan 0.00032035724143497646\n",
      "class 58 : bunsan 0.03675074502825737\n",
      "class 59 : bunsan 0.02693254128098488\n",
      "class 60 : bunsan 0.021654164418578148\n",
      "class 61 : bunsan 0.04983598738908768\n",
      "class 62 : bunsan 0.005430541001260281\n",
      "class 63 : bunsan 0.032410331070423126\n"
     ]
    }
   ],
   "source": [
    "for i in torch.unique(classes):\n",
    "    _d = data[i==classes]\n",
    "    mean = torch.mean(_d,dim=0)\n",
    "    d = ( _d - mean.repeat(_d.size(0),1))**2\n",
    "    d = torch.sum(d,dim=0) / d.size(0)\n",
    "    m = torch.mean(d)\n",
    "    print(f'class {i} : bunsan {m}')"
   ]
  }
 ],
 "metadata": {
  "interpreter": {
   "hash": "134242d850f5597e40b3ce96b326ee97f2caeebdc9bdb770615172b979c34ca2"
  },
  "kernelspec": {
   "display_name": "Python 3.8.10 64-bit ('JARVIS': conda)",
   "name": "python3"
  },
  "language_info": {
   "codemirror_mode": {
    "name": "ipython",
    "version": 3
   },
   "file_extension": ".py",
   "mimetype": "text/x-python",
   "name": "python",
   "nbconvert_exporter": "python",
   "pygments_lexer": "ipython3",
   "version": "3.8.10"
  }
 },
 "nbformat": 4,
 "nbformat_minor": 4
}