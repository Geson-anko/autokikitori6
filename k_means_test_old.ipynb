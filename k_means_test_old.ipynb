{
 "cells": [
  {
   "cell_type": "code",
   "execution_count": 1,
   "metadata": {},
   "outputs": [
    {
     "data": {
      "text/plain": [
       "Text(0, 0.5, 'y')"
      ]
     },
     "execution_count": 1,
     "metadata": {},
     "output_type": "execute_result"
    },
    {
     "data": {
      "image/png": "[encoded data removed]",
      "text/plain": [
       "<Figure size 432x288 with 1 Axes>"
      ]
     },
     "metadata": {
      "needs_background": "light"
     },
     "output_type": "display_data"
    }
   ],
   "source": [
    "%matplotlib inline\n",
    "import numpy as np\n",
    "import matplotlib.pyplot as plt\n",
    "# generate data\n",
    "x = np.random.randn(100)\n",
    "y = np.random.randn(100)\n",
    "\n",
    "fig = plt.figure()\n",
    "\n",
    "ax = fig.add_subplot(1,1,1)\n",
    "\n",
    "ax.scatter(x,y)\n",
    "\n",
    "ax.set_title('first scatter plot')\n",
    "ax.set_xlabel('x')\n",
    "ax.set_ylabel('y')\n",
    "\n",
    "#fig.show()"
   ]
  },
  {
   "cell_type": "code",
   "execution_count": 1,
   "metadata": {},
   "outputs": [
    {
     "data": {
      "image/png": "[encoded data removed]",
      "text/plain": [
       "<Figure size 432x288 with 1 Axes>"
      ]
     },
     "metadata": {
      "needs_background": "light"
     },
     "output_type": "display_data"
    }
   ],
   "source": [
    "%matplotlib inline\n",
    "import numpy as np\n",
    "import matplotlib.pyplot as plt\n",
    "plt.plot((1,2))\n",
    "plt.show()"
   ]
  },
  {
   "cell_type": "code",
   "execution_count": 2,
   "metadata": {},
   "outputs": [],
   "source": [
    "import math\n",
    "import torch\n",
    "class torch_KMeans:\n",
    "    def init_centroids_pp(self,n_cluster: int,data: torch.Tensor) -> torch.Tensor:\n",
    "        \"\"\"\n",
    "        n_cluster : int (n)\n",
    "        data : (N,E)\n",
    "        return -> (n,E)\n",
    "        \"\"\"\n",
    "        datalen = data.size(0)\n",
    "        assert n_cluster <= datalen\n",
    "\n",
    "        centroids = torch.zeros(n_cluster+1,data.size(1),dtype=data.dtype).to(data.device)\n",
    "        _first = torch.randint(0,datalen,(1,))[0]\n",
    "        centroids[0] = data[_first]\n",
    "        dist = torch.sum((data-data[_first].repeat(datalen,1))**2,dim=1)\n",
    "        _second = torch.multinomial(dist,1)[0]\n",
    "        centroids[1] = data[_second]\n",
    "\n",
    "        for i in range(2,n_cluster):\n",
    "            centroids = self.pp_next_centroids(centroids,data,now_len=i)\n",
    "        return centroids[:n_cluster]\n",
    "\n",
    "    def pp_next_centroids(self,centroids:torch.Tensor, data:torch.Tensor,now_len=None) -> torch.Tensor:\n",
    "        \"\"\"\n",
    "        centroids : (n,E)\n",
    "        data : (N,E)\n",
    "        return -> if now_len is None, (n+1,E), else (n,E)\n",
    "        \"\"\"\n",
    "        assert centroids.size(0) < data.size(0) and centroids.size(1) == data.size(1)\n",
    "        ellen = data.size(1)\n",
    "        if now_len is None:\n",
    "            now_len = centroids.size(0)\n",
    "            _c = torch.zeros(now_len+1,centroids.size(1)).to(centroids.device)\n",
    "            _c[:now_len] = centroids\n",
    "            centroids = _c\n",
    "\n",
    "        datalen = data.size(0)\n",
    "\n",
    "        cl,dist = self.clustering(centroids[:now_len],data,return_distances=True)\n",
    "        idxes = torch.arange(datalen)\n",
    "        keep_points = torch.zeros(now_len,ellen,dtype=centroids.dtype)\n",
    "        keep_sumdis = torch.zeros(now_len,dtype=centroids.dtype)\n",
    "#        print(now_len)\n",
    "        for t in range(now_len):\n",
    "            b = cl==t\n",
    "            use = dist[t][b]\n",
    "            idx = idxes[b]\n",
    "            if use.size(0) == 1 and use[0] == 0.0:\n",
    "                keep_sumdis[t] = math.inf\n",
    "                continue\n",
    "#            try:\n",
    "            use_idx = torch.multinomial(use,1)[0]\n",
    "#            except:\n",
    "#                print(use)\n",
    "#                fig = plt.figure()\n",
    "#                ax = fig.add_subplot(1,1,1)\n",
    "#                x,y = zip(*centroids[:now_len].numpy())\n",
    "#                ax.scatter(x,y)\n",
    "#                raise Exception('Error')\n",
    "            using_data = data[idx[use_idx]]\n",
    "            centroids[now_len] = using_data\n",
    "            keep_points[t] = using_data\n",
    "            _cl,_dist = self.clustering(centroids[:now_len+1],data,return_distances=True)\n",
    "            _gokei = torch.zeros(_dist.size(0))\n",
    "            for d in range(_dist.size(0)):\n",
    "                _gokei[d] = torch.sum(_dist[d][_cl==d])\n",
    "            keep_sumdis[t] = torch.sum(_gokei)\n",
    "\n",
    "        centroids[now_len] = keep_points[torch.argmin(keep_sumdis)]\n",
    "        return centroids\n",
    "\n",
    "        \n",
    "    \n",
    "    def get_next_centroid(self,n_cluster: int, data: torch.Tensor,cluster_list: torch.Tensor) -> torch.Tensor:\n",
    "        \"\"\"\n",
    "        n_cluster : n\n",
    "        data : (N,E)\n",
    "        cluster_list : (N,)\n",
    "        return : (n,E)\n",
    "        \"\"\"\n",
    "        assert data.size(0) == cluster_list.size(0)\n",
    "        next_c = torch.zeros(n_cluster,data.size(1)).to(data.device)\n",
    "        for i in torch.unique(cluster_list):\n",
    "            placevec = data[cluster_list == i]\n",
    "            next_c[i] = torch.sum(placevec,dim=0) / placevec.size(0)\n",
    "        del data,placevec,cluster_list\n",
    "        return next_c\n",
    "    \n",
    "    def clustering(self,centroids: torch.Tensor,data: torch.Tensor,return_distances= False):\n",
    "        \"\"\"\n",
    "        data : (N,E)\n",
    "        centoroids : (C,E) <- C <= N\n",
    "        return : [0,1,3,1 ....] <- torch.tensor\n",
    "        \"\"\"\n",
    "\n",
    "        datalen = data.size(0)\n",
    "        centlen = centroids.size(0)\n",
    "        assert centlen <= datalen and data.size(1) == centroids.size(1)\n",
    "        \n",
    "        cluster = torch.zeros(datalen).type(torch.int32).to(data.device)\n",
    "        distances = [torch.sum((data-i.repeat(datalen,1))**2,dim=1) for i in centroids]\n",
    "        distances = torch.stack(distances)\n",
    "        for t,i in enumerate(distances):\n",
    "            _d = i.repeat(centlen,1)\n",
    "            b = _d <= distances\n",
    "            boolean = torch.prod(b,dim=0).type(torch.bool)\n",
    "            cluster[boolean] = t\n",
    "        del datalen,centlen,boolean,_d\n",
    "        if return_distances:\n",
    "            return cluster,distances\n",
    "        else:\n",
    "            del distances\n",
    "            return cluster"
   ]
  },
  {
   "cell_type": "code",
   "execution_count": 3,
   "metadata": {},
   "outputs": [],
   "source": [
    "\"\"\"writing utf-8\"\"\"\n",
    "import torch\n",
    "import os \n",
    "import random\n",
    "import math\n",
    "\n",
    "class torch_KMeans:\n",
    "\n",
    "    def KMeans(self,n_cluster:int, data:torch.Tensor, max_iter=300,centroids_init='k-means++',seed=0) -> torch.Tensor:\n",
    "        \"\"\"\n",
    "        n_cluster : n\n",
    "        data : (N,E)\n",
    "        max_iter : default 300\n",
    "        centroids_init : default k-means++, another option is random\n",
    "        \"\"\"\n",
    "        assert n_cluster <= data.size(0)\n",
    "        self.reset_seed(seed)\n",
    "        device = data.device\n",
    "        if centroids_init == 'k-means++':\n",
    "            centroids = self.init_centroids_pp(n_cluster,data)\n",
    "        else:\n",
    "            datamax = torch.max(torch.abs(data))\n",
    "            centroids = torch.randn(n_cluster,data.size(1)).to(device)\n",
    "            _cmax = torch.max(torch.abs(centroids))\n",
    "            centroids /= datamax / _cmax  \n",
    "\n",
    "        for _ in range(n_cluster):\n",
    "            classes = self.clustering(centroids,data)\n",
    "            _cent = self.get_next_centroid(n_cluster,data,classes)\n",
    "            if torch.sum(centroids-_cent) != 0:\n",
    "                centroids = _cent\n",
    "            else:\n",
    "                break\n",
    "        return centroids\n",
    "\n",
    "\n",
    "\n",
    "    def init_centroids_pp(self,n_cluster: int,data: torch.Tensor) -> torch.Tensor:\n",
    "        \"\"\"\n",
    "        n_cluster : int (n)\n",
    "        data : (N,E)\n",
    "        return -> (n,E)\n",
    "        \"\"\"\n",
    "        datalen = data.size(0)\n",
    "        assert n_cluster <= datalen\n",
    "\n",
    "        centroids = torch.zeros(n_cluster+1,data.size(1),dtype=data.dtype).to(data.device)\n",
    "        _first = torch.randint(0,datalen,(1,))[0]\n",
    "        centroids[0] = data[_first]\n",
    "        dist = torch.sum((data-data[_first].repeat(datalen,1))**2,dim=1)\n",
    "        _second = torch.multinomial(dist,1)[0]\n",
    "        centroids[1] = data[_second]\n",
    "\n",
    "        for i in range(2,n_cluster):\n",
    "            centroids = self.pp_next_centroids(centroids,data,now_len=i)\n",
    "        return centroids[:n_cluster]\n",
    "\n",
    "    def pp_next_centroids(self,centroids:torch.Tensor, data:torch.Tensor,now_len=None) -> torch.Tensor:\n",
    "        \"\"\"\n",
    "        centroids : (n,E)\n",
    "        data : (N,E)\n",
    "        return -> if now_len is None, (n+1,E), else (n,E)\n",
    "        \"\"\"\n",
    "        assert centroids.size(0) < data.size(0) and centroids.size(1) == data.size(1)\n",
    "        ellen = data.size(1)\n",
    "        if now_len is None:\n",
    "            now_len = centroids.size(0)\n",
    "            _c = torch.zeros(now_len+1,centroids.size(1)).to(centroids.device)\n",
    "            _c[:now_len] = centroids\n",
    "            centroids = _c\n",
    "\n",
    "        datalen = data.size(0)\n",
    "\n",
    "        cl,dist = self.clustering(centroids[:now_len],data,return_distances=True)\n",
    "        idxes = torch.arange(datalen)\n",
    "        keep_points = torch.zeros(now_len,ellen,dtype=centroids.dtype)\n",
    "        keep_sumdis = torch.zeros(now_len,dtype=centroids.dtype)\n",
    "        for t in range(now_len):\n",
    "            b = cl==t\n",
    "            use = dist[t][b]\n",
    "            idx = idxes[b]\n",
    "            if use.size(0) == 1 and use[0] == 0.0:\n",
    "                keep_sumdis[t] = math.inf\n",
    "                continue\n",
    "            use_idx = torch.multinomial(use,1)[0]\n",
    "            using_data = data[idx[use_idx]]\n",
    "            centroids[now_len] = using_data\n",
    "            keep_points[t] = using_data\n",
    "            _cl,_dist = self.clustering(centroids[:now_len+1],data,return_distances=True)\n",
    "            _gokei = torch.zeros(_dist.size(0))\n",
    "            for d in range(_dist.size(0)):\n",
    "                _gokei[d] = torch.sum(_dist[d][_cl==d])\n",
    "            keep_sumdis[t] = torch.sum(_gokei)\n",
    "\n",
    "        centroids[now_len] = keep_points[torch.argmin(keep_sumdis)]\n",
    "        return centroids\n",
    "\n",
    "    def get_next_centroid(self,n_cluster: int, data: torch.Tensor,cluster_list: torch.Tensor) -> torch.Tensor:\n",
    "        \"\"\"\n",
    "        n_cluster : n\n",
    "        data : (N,E)\n",
    "        cluster_list : (N,)\n",
    "        return : (n,E)\n",
    "        \"\"\"\n",
    "        assert data.size(0) == cluster_list.size(0)\n",
    "        next_c = torch.zeros(n_cluster,data.size(1)).to(data.device)\n",
    "        for i in torch.unique(cluster_list):\n",
    "            placevec = data[cluster_list == i]\n",
    "            next_c[i] = torch.sum(placevec,dim=0) / placevec.size(0)\n",
    "        del data,placevec,cluster_list\n",
    "        return next_c\n",
    "            \n",
    "            \n",
    "\n",
    "\n",
    "    def clustering(self,centroids: torch.Tensor,data: torch.Tensor,return_distances= False):\n",
    "        \"\"\"\n",
    "        data : (N,E)\n",
    "        centoroids : (C,E) <- C <= N\n",
    "        return : [0,1,3,1 ....] <- torch.tensor\n",
    "        \"\"\"\n",
    "\n",
    "        datalen = data.size(0)\n",
    "        centlen = centroids.size(0)\n",
    "        assert centlen <= datalen and data.size(1) == centroids.size(1)\n",
    "        \n",
    "        cluster = torch.zeros(datalen).type(torch.int32).to(data.device)\n",
    "        distances = [torch.sum((data-i.repeat(datalen,1))**2,dim=1) for i in centroids]\n",
    "        distances = torch.stack(distances)\n",
    "        for t,i in enumerate(distances):\n",
    "            _d = i.repeat(centlen,1)\n",
    "            b = _d <= distances\n",
    "            boolean = torch.prod(b,dim=0).type(torch.bool)\n",
    "            cluster[boolean] = t\n",
    "        del datalen,centlen,boolean,_d\n",
    "        if return_distances:\n",
    "            return cluster,distances\n",
    "        else:\n",
    "            del distances\n",
    "            return cluster\n",
    "\n",
    "    def reset_seed(self,seed=0):\n",
    "        os.environ['PYTHONHASHSEED'] = '0'\n",
    "        random.seed(seed)\n",
    "        torch.manual_seed(seed)"
   ]
  },
  {
   "cell_type": "code",
   "execution_count": 19,
   "metadata": {},
   "outputs": [],
   "source": [
    "dumd1 = torch.randn(25,2) + 5\n",
    "dumd2 = torch.randn(25,2) -5\n",
    "dumd3 = torch.randn(25,2) * 5\n",
    "dumd4 = torch.randn(25,2) * -5\n",
    "dumd = torch.cat([dumd1,dumd2,dumd3,dumd4])"
   ]
  },
  {
   "cell_type": "code",
   "execution_count": 22,
   "metadata": {
    "scrolled": true
   },
   "outputs": [
    {
     "data": {
      "text/plain": [
       "<matplotlib.collections.PathCollection at 0x1e8652aef40>"
      ]
     },
     "execution_count": 22,
     "metadata": {},
     "output_type": "execute_result"
    },
    {
     "data": {
      "image/png": "[encoded data removed]",
      "text/plain": [
       "<Figure size 432x288 with 1 Axes>"
      ]
     },
     "metadata": {
      "needs_background": "light"
     },
     "output_type": "display_data"
    }
   ],
   "source": [
    "#dumd = torch.randn(100,2)\n",
    "KMeans = torch_KMeans()\n",
    "centroids = KMeans.KMeans(2,dumd,30)\n",
    "fig = plt.figure()\n",
    "ax = fig.add_subplot(1,1,1)\n",
    "x,y = zip(*dumd.numpy())\n",
    "ax.scatter(x,y,color='red')\n",
    "x,y = zip(*centroids.numpy())\n",
    "ax.scatter(x,y,color='blue')"
   ]
  },
  {
   "cell_type": "code",
   "execution_count": 6,
   "metadata": {},
   "outputs": [
    {
     "data": {
      "text/plain": [
       "<matplotlib.collections.PathCollection at 0x1e864dd6250>"
      ]
     },
     "execution_count": 6,
     "metadata": {},
     "output_type": "execute_result"
    },
    {
     "data": {
      "image/png": "[encoded data removed]",
      "text/plain": [
       "<Figure size 432x288 with 1 Axes>"
      ]
     },
     "metadata": {
      "needs_background": "light"
     },
     "output_type": "display_data"
    }
   ],
   "source": [
    "#dumd = torch.randn(100,2)\n",
    "fig = plt.figure()\n",
    "ax = fig.add_subplot(1,1,1)\n",
    "x,y = zip(*dumd.numpy())\n",
    "ax.scatter(x,y)"
   ]
  },
  {
   "cell_type": "code",
   "execution_count": 7,
   "metadata": {},
   "outputs": [],
   "source": [
    "KMeans = torch_KMeans()\n",
    "#dumc = torch.randn(3,2)\n",
    "dumc = KMeans.init_centroids_pp(3,dumd)\n",
    "dumd = torch.randn(100,2)\n",
    "cl = KMeans.clustering(dumc,dumd)\n",
    "c = dumc.detach().numpy()\n",
    "d = dumd.detach().numpy()\n",
    "cln = cl.detach().numpy()\n",
    "cent = KMeans.get_next_centroid(3,dumd,cl)\n",
    "centn= cent.detach().numpy()\n",
    "cen = KMeans.init_centroids_pp(3,dumd)"
   ]
  },
  {
   "cell_type": "code",
   "execution_count": 8,
   "metadata": {},
   "outputs": [
    {
     "data": {
      "text/plain": [
       "Text(0, 0.5, 'y')"
      ]
     },
     "execution_count": 8,
     "metadata": {},
     "output_type": "execute_result"
    },
    {
     "data": {
      "image/png": "[encoded data removed]",
      "text/plain": [
       "<Figure size 432x288 with 1 Axes>"
      ]
     },
     "metadata": {
      "needs_background": "light"
     },
     "output_type": "display_data"
    }
   ],
   "source": [
    "data = (d[cln==0], d[cln==1], d[cln==2])\n",
    "fig = plt.figure()\n",
    "ax = fig.add_subplot(1,1,1)\n",
    "for t,i in enumerate(['red','blue','green']):\n",
    "    x,y = zip(*data[t])\n",
    "    ax.scatter(x,y,color=i)\n",
    "x,y = zip(*c)\n",
    "ax.scatter(x,y,color='yellow')\n",
    "x,y = zip(*centn)\n",
    "ax.scatter(x,y,color='purple')\n",
    "#x,y = zip(*cen)\n",
    "#ax.scatter(x,y,color='brown')\n",
    "ax.set_title('first scatter plot')\n",
    "ax.set_xlabel('x')\n",
    "ax.set_ylabel('y')"
   ]
  },
  {
   "cell_type": "code",
   "execution_count": 9,
   "metadata": {},
   "outputs": [
    {
     "data": {
      "text/plain": [
       "Text(0, 0.5, 'y')"
      ]
     },
     "execution_count": 9,
     "metadata": {},
     "output_type": "execute_result"
    },
    {
     "data": {
      "image/png": "[encoded data removed]",
      "text/plain": [
       "<Figure size 432x288 with 1 Axes>"
      ]
     },
     "metadata": {
      "needs_background": "light"
     },
     "output_type": "display_data"
    }
   ],
   "source": [
    "fig = plt.figure()\n",
    "ax = fig.add_subplot(1,1,1)\n",
    "data = np.random.randn(10,2)\n",
    "x, y = zip(*c)\n",
    "ax.scatter(x,y,color='green')\n",
    "x, y = zip(*d)\n",
    "\n",
    "ax.set_title('first scatter plot')\n",
    "ax.set_xlabel('x')\n",
    "ax.set_ylabel('y')\n",
    "#ax.plot(np.random.randn(10,2),color='red',marker='x',linewidth=0)"
   ]
  }
 ],
 "metadata": {
  "kernelspec": {
   "display_name": "Python 3",
   "language": "python",
   "name": "python3"
  },
  "language_info": {
   "codemirror_mode": {
    "name": "ipython",
    "version": 3
   },
   "file_extension": ".py",
   "mimetype": "text/x-python",
   "name": "python",
   "nbconvert_exporter": "python",
   "pygments_lexer": "ipython3",
   "version": "3.8.5"
  }
 },
 "nbformat": 4,
 "nbformat_minor": 4
}
