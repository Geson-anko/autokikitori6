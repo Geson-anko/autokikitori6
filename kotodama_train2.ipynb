{
 "cells": [
  {
   "cell_type": "code",
   "execution_count": 1,
   "metadata": {},
   "outputs": [],
   "source": [
    "from kotodama_model2 import AutoEncoder\r\n",
    "from kotodama_data import ToData\r\n",
    "import config\r\n",
    "import torch\r\n",
    "from torch.utils import data as DataUtil\r\n",
    "import h5py\r\n",
    "import pytorch_lightning as pl"
   ]
  },
  {
   "cell_type": "code",
   "execution_count": 2,
   "metadata": {},
   "outputs": [
    {
     "name": "stdout",
     "output_type": "stream",
     "text": [
      "torch.Size([97, 129, 128]) torch.Size([97, 8, 16, 128])\n"
     ]
    }
   ],
   "source": [
    "class OriginalData(DataUtil.Dataset):\r\n",
    "    def __init__(self) -> None:\r\n",
    "        super().__init__()\r\n",
    "\r\n",
    "        with h5py.File(ToData.file_name,'r') as f:\r\n",
    "            self.acurrent = torch.from_numpy(f[ToData.current_key][...])\r\n",
    "            self.memory = torch.from_numpy(f[ToData.memory_key][...])\r\n",
    "        print(self.acurrent.shape,self.memory.shape)\r\n",
    "\r\n",
    "    def __len__(self):\r\n",
    "        return self.acurrent.size(0)\r\n",
    "    \r\n",
    "    def __getitem__(self, index):\r\n",
    "        return self.acurrent[index],self.memory[index]\r\n",
    "data_set = OriginalData()"
   ]
  },
  {
   "cell_type": "code",
   "execution_count": 3,
   "metadata": {},
   "outputs": [],
   "source": [
    "model = AutoEncoder()\r\n",
    "batch_size = 32\r\n",
    "EPOCHS = 1000\r\n",
    "data_loader = DataUtil.DataLoader(data_set,batch_size,shuffle=True)"
   ]
  },
  {
   "cell_type": "code",
   "execution_count": 4,
   "metadata": {},
   "outputs": [
    {
     "name": "stderr",
     "output_type": "stream",
     "text": [
      "GPU available: True, used: True\n",
      "TPU available: False, using: 0 TPU cores\n",
      "Using native 16bit precision.\n",
      "LOCAL_RANK: 0 - CUDA_VISIBLE_DEVICES: [0]\n",
      "\n",
      "  | Name      | Type    | Params\n",
      "--------------------------------------\n",
      "0 | criterion | MSELoss | 0     \n",
      "1 | encoder   | Encoder | 1.8 M \n",
      "2 | decoder   | Decoder | 2.7 M \n",
      "--------------------------------------\n",
      "4.5 M     Trainable params\n",
      "0         Non-trainable params\n",
      "4.5 M     Total params\n",
      "18.018    Total estimated model params size (MB)\n"
     ]
    },
    {
     "name": "stdout",
     "output_type": "stream",
     "text": [
      "Epoch 0:   0%|          | 0/4 [00:00<?, ?it/s] "
     ]
    },
    {
     "name": "stderr",
     "output_type": "stream",
     "text": [
      "C:\\Users\\22shi\\anaconda3\\envs\\JARVIS\\lib\\site-packages\\pytorch_lightning\\trainer\\data_loading.py:102: UserWarning: The dataloader, train dataloader, does not have many workers which may be a bottleneck. Consider increasing the value of the `num_workers` argument` (try 16 which is the number of cpus on this machine) in the `DataLoader` init to improve performance.\n",
      "  rank_zero_warn(\n"
     ]
    },
    {
     "name": "stdout",
     "output_type": "stream",
     "text": [
      "Epoch 9: 100%|██████████| 4/4 [00:00<00:00,  4.84it/s, loss=0.281, v_num=2]\n",
      "saved\n"
     ]
    }
   ],
   "source": [
    "trainer = pl.Trainer(gpus=1,num_nodes=1,precision=16,max_epochs=EPOCHS)\r\n",
    "trainer.fit(model,data_loader)\r\n",
    "from datetime import datetime\r\n",
    "now = datetime.now().strftime('%Y-%m-%d_%H-%M-%S-%f')\r\n",
    "name = f'params/KotodamaAutoEncoder2_{now}.params'\r\n",
    "torch.save(model.state_dict(),name)\r\n",
    "print('saved')"
   ]
  },
  {
   "cell_type": "code",
   "execution_count": null,
   "metadata": {},
   "outputs": [],
   "source": []
  }
 ],
 "metadata": {
  "interpreter": {
   "hash": "134242d850f5597e40b3ce96b326ee97f2caeebdc9bdb770615172b979c34ca2"
  },
  "kernelspec": {
   "display_name": "Python 3.8.10 64-bit ('JARVIS': conda)",
   "name": "python3"
  },
  "language_info": {
   "codemirror_mode": {
    "name": "ipython",
    "version": 3
   },
   "file_extension": ".py",
   "mimetype": "text/x-python",
   "name": "python",
   "nbconvert_exporter": "python",
   "pygments_lexer": "ipython3",
   "version": "3.8.10"
  },
  "orig_nbformat": 4
 },
 "nbformat": 4,
 "nbformat_minor": 2
}